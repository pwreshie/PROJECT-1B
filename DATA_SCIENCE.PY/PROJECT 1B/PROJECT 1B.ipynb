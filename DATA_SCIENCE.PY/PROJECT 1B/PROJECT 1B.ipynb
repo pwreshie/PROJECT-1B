{
 "cells": [
  {
   "cell_type": "code",
   "execution_count": 6,
   "id": "5ef8e25c",
   "metadata": {},
   "outputs": [],
   "source": [
    "import numpy as np\n",
    "import pandas as pd\n",
    "import matplotlib.pyplot as plt\n",
    "plt.style.use(\"ggplot\")\n",
    "import csv\n",
    "from datetime import datetime"
   ]
  },
  {
   "cell_type": "code",
   "execution_count": 7,
   "id": "459f72d0",
   "metadata": {},
   "outputs": [],
   "source": [
    "s = []\n",
    "for i in range(1, 13):\n",
    "    s.append(datetime(2020, i, 1).strftime('%B'))\n",
    "\n",
    "list_of_files = []\n",
    "\n",
    "\n",
    "for i in s:\n",
    "    list_of_files.append(f'/Users/User/Downloads/Sales_Data/Sales_{i}_2019.csv')"
   ]
  },
  {
   "cell_type": "code",
   "execution_count": 53,
   "id": "fb6c0f79",
   "metadata": {},
   "outputs": [
    {
     "data": {
      "text/plain": [
       "['January',\n",
       " 'February',\n",
       " 'March',\n",
       " 'April',\n",
       " 'May',\n",
       " 'June',\n",
       " 'July',\n",
       " 'August',\n",
       " 'September',\n",
       " 'October',\n",
       " 'November',\n",
       " 'December']"
      ]
     },
     "execution_count": 53,
     "metadata": {},
     "output_type": "execute_result"
    }
   ],
   "source": [
    "s"
   ]
  },
  {
   "cell_type": "code",
   "execution_count": 54,
   "id": "1762ce86",
   "metadata": {},
   "outputs": [
    {
     "data": {
      "text/plain": [
       "['/Users/User/Downloads/Sales_Data/Sales_January_2019.csv',\n",
       " '/Users/User/Downloads/Sales_Data/Sales_February_2019.csv',\n",
       " '/Users/User/Downloads/Sales_Data/Sales_March_2019.csv',\n",
       " '/Users/User/Downloads/Sales_Data/Sales_April_2019.csv',\n",
       " '/Users/User/Downloads/Sales_Data/Sales_May_2019.csv',\n",
       " '/Users/User/Downloads/Sales_Data/Sales_June_2019.csv',\n",
       " '/Users/User/Downloads/Sales_Data/Sales_July_2019.csv',\n",
       " '/Users/User/Downloads/Sales_Data/Sales_August_2019.csv',\n",
       " '/Users/User/Downloads/Sales_Data/Sales_September_2019.csv',\n",
       " '/Users/User/Downloads/Sales_Data/Sales_October_2019.csv',\n",
       " '/Users/User/Downloads/Sales_Data/Sales_November_2019.csv',\n",
       " '/Users/User/Downloads/Sales_Data/Sales_December_2019.csv']"
      ]
     },
     "execution_count": 54,
     "metadata": {},
     "output_type": "execute_result"
    }
   ],
   "source": [
    "list_of_files"
   ]
  },
  {
   "cell_type": "code",
   "execution_count": 55,
   "id": "66272f1e",
   "metadata": {},
   "outputs": [
    {
     "data": {
      "text/plain": [
       "(186850, 9)"
      ]
     },
     "execution_count": 55,
     "metadata": {},
     "output_type": "execute_result"
    }
   ],
   "source": [
    "data.shape"
   ]
  },
  {
   "cell_type": "code",
   "execution_count": 56,
   "id": "349df7ae",
   "metadata": {},
   "outputs": [],
   "source": [
    "data = pd.read_csv(list_of_files[0])"
   ]
  },
  {
   "cell_type": "code",
   "execution_count": 57,
   "id": "f16a6066",
   "metadata": {},
   "outputs": [
    {
     "data": {
      "text/html": [
       "<div>\n",
       "<style scoped>\n",
       "    .dataframe tbody tr th:only-of-type {\n",
       "        vertical-align: middle;\n",
       "    }\n",
       "\n",
       "    .dataframe tbody tr th {\n",
       "        vertical-align: top;\n",
       "    }\n",
       "\n",
       "    .dataframe thead th {\n",
       "        text-align: right;\n",
       "    }\n",
       "</style>\n",
       "<table border=\"1\" class=\"dataframe\">\n",
       "  <thead>\n",
       "    <tr style=\"text-align: right;\">\n",
       "      <th></th>\n",
       "      <th>Order ID</th>\n",
       "      <th>Product</th>\n",
       "      <th>Quantity Ordered</th>\n",
       "      <th>Price Each</th>\n",
       "      <th>Order Date</th>\n",
       "      <th>Purchase Address</th>\n",
       "    </tr>\n",
       "  </thead>\n",
       "  <tbody>\n",
       "    <tr>\n",
       "      <th>0</th>\n",
       "      <td>141234</td>\n",
       "      <td>iPhone</td>\n",
       "      <td>1</td>\n",
       "      <td>700</td>\n",
       "      <td>01/22/19 21:25</td>\n",
       "      <td>944 Walnut St, Boston, MA 02215</td>\n",
       "    </tr>\n",
       "    <tr>\n",
       "      <th>1</th>\n",
       "      <td>141235</td>\n",
       "      <td>Lightning Charging Cable</td>\n",
       "      <td>1</td>\n",
       "      <td>14.95</td>\n",
       "      <td>01/28/19 14:15</td>\n",
       "      <td>185 Maple St, Portland, OR 97035</td>\n",
       "    </tr>\n",
       "    <tr>\n",
       "      <th>2</th>\n",
       "      <td>141236</td>\n",
       "      <td>Wired Headphones</td>\n",
       "      <td>2</td>\n",
       "      <td>11.99</td>\n",
       "      <td>01/17/19 13:33</td>\n",
       "      <td>538 Adams St, San Francisco, CA 94016</td>\n",
       "    </tr>\n",
       "    <tr>\n",
       "      <th>3</th>\n",
       "      <td>141237</td>\n",
       "      <td>27in FHD Monitor</td>\n",
       "      <td>1</td>\n",
       "      <td>149.99</td>\n",
       "      <td>01/05/19 20:33</td>\n",
       "      <td>738 10th St, Los Angeles, CA 90001</td>\n",
       "    </tr>\n",
       "    <tr>\n",
       "      <th>4</th>\n",
       "      <td>141238</td>\n",
       "      <td>Wired Headphones</td>\n",
       "      <td>1</td>\n",
       "      <td>11.99</td>\n",
       "      <td>01/25/19 11:59</td>\n",
       "      <td>387 10th St, Austin, TX 73301</td>\n",
       "    </tr>\n",
       "    <tr>\n",
       "      <th>...</th>\n",
       "      <td>...</td>\n",
       "      <td>...</td>\n",
       "      <td>...</td>\n",
       "      <td>...</td>\n",
       "      <td>...</td>\n",
       "      <td>...</td>\n",
       "    </tr>\n",
       "    <tr>\n",
       "      <th>9718</th>\n",
       "      <td>150497</td>\n",
       "      <td>20in Monitor</td>\n",
       "      <td>1</td>\n",
       "      <td>109.99</td>\n",
       "      <td>01/26/19 19:09</td>\n",
       "      <td>95 8th St, Dallas, TX 75001</td>\n",
       "    </tr>\n",
       "    <tr>\n",
       "      <th>9719</th>\n",
       "      <td>150498</td>\n",
       "      <td>27in FHD Monitor</td>\n",
       "      <td>1</td>\n",
       "      <td>149.99</td>\n",
       "      <td>01/10/19 22:58</td>\n",
       "      <td>403 7th St, San Francisco, CA 94016</td>\n",
       "    </tr>\n",
       "    <tr>\n",
       "      <th>9720</th>\n",
       "      <td>150499</td>\n",
       "      <td>ThinkPad Laptop</td>\n",
       "      <td>1</td>\n",
       "      <td>999.99</td>\n",
       "      <td>01/21/19 14:31</td>\n",
       "      <td>214 Main St, Portland, OR 97035</td>\n",
       "    </tr>\n",
       "    <tr>\n",
       "      <th>9721</th>\n",
       "      <td>150500</td>\n",
       "      <td>AAA Batteries (4-pack)</td>\n",
       "      <td>2</td>\n",
       "      <td>2.99</td>\n",
       "      <td>01/15/19 14:21</td>\n",
       "      <td>810 2nd St, Los Angeles, CA 90001</td>\n",
       "    </tr>\n",
       "    <tr>\n",
       "      <th>9722</th>\n",
       "      <td>150501</td>\n",
       "      <td>Google Phone</td>\n",
       "      <td>1</td>\n",
       "      <td>600</td>\n",
       "      <td>01/13/19 16:43</td>\n",
       "      <td>428 Cedar St, Boston, MA 02215</td>\n",
       "    </tr>\n",
       "  </tbody>\n",
       "</table>\n",
       "<p>9723 rows × 6 columns</p>\n",
       "</div>"
      ],
      "text/plain": [
       "     Order ID                   Product Quantity Ordered Price Each  \\\n",
       "0      141234                    iPhone                1        700   \n",
       "1      141235  Lightning Charging Cable                1      14.95   \n",
       "2      141236          Wired Headphones                2      11.99   \n",
       "3      141237          27in FHD Monitor                1     149.99   \n",
       "4      141238          Wired Headphones                1      11.99   \n",
       "...       ...                       ...              ...        ...   \n",
       "9718   150497              20in Monitor                1     109.99   \n",
       "9719   150498          27in FHD Monitor                1     149.99   \n",
       "9720   150499           ThinkPad Laptop                1     999.99   \n",
       "9721   150500    AAA Batteries (4-pack)                2       2.99   \n",
       "9722   150501              Google Phone                1        600   \n",
       "\n",
       "          Order Date                       Purchase Address  \n",
       "0     01/22/19 21:25        944 Walnut St, Boston, MA 02215  \n",
       "1     01/28/19 14:15       185 Maple St, Portland, OR 97035  \n",
       "2     01/17/19 13:33  538 Adams St, San Francisco, CA 94016  \n",
       "3     01/05/19 20:33     738 10th St, Los Angeles, CA 90001  \n",
       "4     01/25/19 11:59          387 10th St, Austin, TX 73301  \n",
       "...              ...                                    ...  \n",
       "9718  01/26/19 19:09            95 8th St, Dallas, TX 75001  \n",
       "9719  01/10/19 22:58    403 7th St, San Francisco, CA 94016  \n",
       "9720  01/21/19 14:31        214 Main St, Portland, OR 97035  \n",
       "9721  01/15/19 14:21      810 2nd St, Los Angeles, CA 90001  \n",
       "9722  01/13/19 16:43         428 Cedar St, Boston, MA 02215  \n",
       "\n",
       "[9723 rows x 6 columns]"
      ]
     },
     "execution_count": 57,
     "metadata": {},
     "output_type": "execute_result"
    }
   ],
   "source": [
    "data"
   ]
  },
  {
   "cell_type": "code",
   "execution_count": 58,
   "id": "e572f974",
   "metadata": {},
   "outputs": [],
   "source": [
    "data1 = pd.read_csv(list_of_files[1])"
   ]
  },
  {
   "cell_type": "code",
   "execution_count": 59,
   "id": "095a0349",
   "metadata": {},
   "outputs": [
    {
     "data": {
      "text/html": [
       "<div>\n",
       "<style scoped>\n",
       "    .dataframe tbody tr th:only-of-type {\n",
       "        vertical-align: middle;\n",
       "    }\n",
       "\n",
       "    .dataframe tbody tr th {\n",
       "        vertical-align: top;\n",
       "    }\n",
       "\n",
       "    .dataframe thead th {\n",
       "        text-align: right;\n",
       "    }\n",
       "</style>\n",
       "<table border=\"1\" class=\"dataframe\">\n",
       "  <thead>\n",
       "    <tr style=\"text-align: right;\">\n",
       "      <th></th>\n",
       "      <th>Order ID</th>\n",
       "      <th>Product</th>\n",
       "      <th>Quantity Ordered</th>\n",
       "      <th>Price Each</th>\n",
       "      <th>Order Date</th>\n",
       "      <th>Purchase Address</th>\n",
       "    </tr>\n",
       "  </thead>\n",
       "  <tbody>\n",
       "    <tr>\n",
       "      <th>0</th>\n",
       "      <td>150502</td>\n",
       "      <td>iPhone</td>\n",
       "      <td>1</td>\n",
       "      <td>700</td>\n",
       "      <td>02/18/19 01:35</td>\n",
       "      <td>866 Spruce St, Portland, ME 04101</td>\n",
       "    </tr>\n",
       "    <tr>\n",
       "      <th>1</th>\n",
       "      <td>150503</td>\n",
       "      <td>AA Batteries (4-pack)</td>\n",
       "      <td>1</td>\n",
       "      <td>3.84</td>\n",
       "      <td>02/13/19 07:24</td>\n",
       "      <td>18 13th St, San Francisco, CA 94016</td>\n",
       "    </tr>\n",
       "    <tr>\n",
       "      <th>2</th>\n",
       "      <td>150504</td>\n",
       "      <td>27in 4K Gaming Monitor</td>\n",
       "      <td>1</td>\n",
       "      <td>389.99</td>\n",
       "      <td>02/18/19 09:46</td>\n",
       "      <td>52 6th St, New York City, NY 10001</td>\n",
       "    </tr>\n",
       "    <tr>\n",
       "      <th>3</th>\n",
       "      <td>150505</td>\n",
       "      <td>Lightning Charging Cable</td>\n",
       "      <td>1</td>\n",
       "      <td>14.95</td>\n",
       "      <td>02/02/19 16:47</td>\n",
       "      <td>129 Cherry St, Atlanta, GA 30301</td>\n",
       "    </tr>\n",
       "    <tr>\n",
       "      <th>4</th>\n",
       "      <td>150506</td>\n",
       "      <td>AA Batteries (4-pack)</td>\n",
       "      <td>2</td>\n",
       "      <td>3.84</td>\n",
       "      <td>02/28/19 20:32</td>\n",
       "      <td>548 Lincoln St, Seattle, WA 98101</td>\n",
       "    </tr>\n",
       "    <tr>\n",
       "      <th>...</th>\n",
       "      <td>...</td>\n",
       "      <td>...</td>\n",
       "      <td>...</td>\n",
       "      <td>...</td>\n",
       "      <td>...</td>\n",
       "      <td>...</td>\n",
       "    </tr>\n",
       "    <tr>\n",
       "      <th>12031</th>\n",
       "      <td>162004</td>\n",
       "      <td>Apple Airpods Headphones</td>\n",
       "      <td>1</td>\n",
       "      <td>150</td>\n",
       "      <td>02/12/19 22:02</td>\n",
       "      <td>227 Church St, San Francisco, CA 94016</td>\n",
       "    </tr>\n",
       "    <tr>\n",
       "      <th>12032</th>\n",
       "      <td>162005</td>\n",
       "      <td>AAA Batteries (4-pack)</td>\n",
       "      <td>2</td>\n",
       "      <td>2.99</td>\n",
       "      <td>02/04/19 20:44</td>\n",
       "      <td>417 Jefferson St, Los Angeles, CA 90001</td>\n",
       "    </tr>\n",
       "    <tr>\n",
       "      <th>12033</th>\n",
       "      <td>162006</td>\n",
       "      <td>USB-C Charging Cable</td>\n",
       "      <td>1</td>\n",
       "      <td>11.95</td>\n",
       "      <td>02/24/19 06:31</td>\n",
       "      <td>498 8th St, Atlanta, GA 30301</td>\n",
       "    </tr>\n",
       "    <tr>\n",
       "      <th>12034</th>\n",
       "      <td>162007</td>\n",
       "      <td>USB-C Charging Cable</td>\n",
       "      <td>1</td>\n",
       "      <td>11.95</td>\n",
       "      <td>02/24/19 19:09</td>\n",
       "      <td>715 7th St, Dallas, TX 75001</td>\n",
       "    </tr>\n",
       "    <tr>\n",
       "      <th>12035</th>\n",
       "      <td>162008</td>\n",
       "      <td>27in FHD Monitor</td>\n",
       "      <td>1</td>\n",
       "      <td>149.99</td>\n",
       "      <td>02/26/19 17:15</td>\n",
       "      <td>677 West St, Los Angeles, CA 90001</td>\n",
       "    </tr>\n",
       "  </tbody>\n",
       "</table>\n",
       "<p>12036 rows × 6 columns</p>\n",
       "</div>"
      ],
      "text/plain": [
       "      Order ID                   Product Quantity Ordered Price Each  \\\n",
       "0       150502                    iPhone                1        700   \n",
       "1       150503     AA Batteries (4-pack)                1       3.84   \n",
       "2       150504    27in 4K Gaming Monitor                1     389.99   \n",
       "3       150505  Lightning Charging Cable                1      14.95   \n",
       "4       150506     AA Batteries (4-pack)                2       3.84   \n",
       "...        ...                       ...              ...        ...   \n",
       "12031   162004  Apple Airpods Headphones                1        150   \n",
       "12032   162005    AAA Batteries (4-pack)                2       2.99   \n",
       "12033   162006      USB-C Charging Cable                1      11.95   \n",
       "12034   162007      USB-C Charging Cable                1      11.95   \n",
       "12035   162008          27in FHD Monitor                1     149.99   \n",
       "\n",
       "           Order Date                         Purchase Address  \n",
       "0      02/18/19 01:35        866 Spruce St, Portland, ME 04101  \n",
       "1      02/13/19 07:24      18 13th St, San Francisco, CA 94016  \n",
       "2      02/18/19 09:46       52 6th St, New York City, NY 10001  \n",
       "3      02/02/19 16:47         129 Cherry St, Atlanta, GA 30301  \n",
       "4      02/28/19 20:32        548 Lincoln St, Seattle, WA 98101  \n",
       "...               ...                                      ...  \n",
       "12031  02/12/19 22:02   227 Church St, San Francisco, CA 94016  \n",
       "12032  02/04/19 20:44  417 Jefferson St, Los Angeles, CA 90001  \n",
       "12033  02/24/19 06:31            498 8th St, Atlanta, GA 30301  \n",
       "12034  02/24/19 19:09             715 7th St, Dallas, TX 75001  \n",
       "12035  02/26/19 17:15       677 West St, Los Angeles, CA 90001  \n",
       "\n",
       "[12036 rows x 6 columns]"
      ]
     },
     "execution_count": 59,
     "metadata": {},
     "output_type": "execute_result"
    }
   ],
   "source": [
    "data1"
   ]
  },
  {
   "cell_type": "code",
   "execution_count": 60,
   "id": "83d3d7c1",
   "metadata": {},
   "outputs": [],
   "source": [
    "data2 = pd.read_csv(list_of_files[2])"
   ]
  },
  {
   "cell_type": "code",
   "execution_count": 61,
   "id": "d67ce57f",
   "metadata": {},
   "outputs": [
    {
     "data": {
      "text/html": [
       "<div>\n",
       "<style scoped>\n",
       "    .dataframe tbody tr th:only-of-type {\n",
       "        vertical-align: middle;\n",
       "    }\n",
       "\n",
       "    .dataframe tbody tr th {\n",
       "        vertical-align: top;\n",
       "    }\n",
       "\n",
       "    .dataframe thead th {\n",
       "        text-align: right;\n",
       "    }\n",
       "</style>\n",
       "<table border=\"1\" class=\"dataframe\">\n",
       "  <thead>\n",
       "    <tr style=\"text-align: right;\">\n",
       "      <th></th>\n",
       "      <th>Order ID</th>\n",
       "      <th>Product</th>\n",
       "      <th>Quantity Ordered</th>\n",
       "      <th>Price Each</th>\n",
       "      <th>Order Date</th>\n",
       "      <th>Purchase Address</th>\n",
       "    </tr>\n",
       "  </thead>\n",
       "  <tbody>\n",
       "    <tr>\n",
       "      <th>0</th>\n",
       "      <td>162009</td>\n",
       "      <td>iPhone</td>\n",
       "      <td>1</td>\n",
       "      <td>700</td>\n",
       "      <td>03/28/19 20:59</td>\n",
       "      <td>942 Church St, Austin, TX 73301</td>\n",
       "    </tr>\n",
       "    <tr>\n",
       "      <th>1</th>\n",
       "      <td>162009</td>\n",
       "      <td>Lightning Charging Cable</td>\n",
       "      <td>1</td>\n",
       "      <td>14.95</td>\n",
       "      <td>03/28/19 20:59</td>\n",
       "      <td>942 Church St, Austin, TX 73301</td>\n",
       "    </tr>\n",
       "    <tr>\n",
       "      <th>2</th>\n",
       "      <td>162009</td>\n",
       "      <td>Wired Headphones</td>\n",
       "      <td>2</td>\n",
       "      <td>11.99</td>\n",
       "      <td>03/28/19 20:59</td>\n",
       "      <td>942 Church St, Austin, TX 73301</td>\n",
       "    </tr>\n",
       "    <tr>\n",
       "      <th>3</th>\n",
       "      <td>162010</td>\n",
       "      <td>Bose SoundSport Headphones</td>\n",
       "      <td>1</td>\n",
       "      <td>99.99</td>\n",
       "      <td>03/17/19 05:39</td>\n",
       "      <td>261 10th St, San Francisco, CA 94016</td>\n",
       "    </tr>\n",
       "    <tr>\n",
       "      <th>4</th>\n",
       "      <td>162011</td>\n",
       "      <td>34in Ultrawide Monitor</td>\n",
       "      <td>1</td>\n",
       "      <td>379.99</td>\n",
       "      <td>03/10/19 00:01</td>\n",
       "      <td>764 13th St, San Francisco, CA 94016</td>\n",
       "    </tr>\n",
       "    <tr>\n",
       "      <th>...</th>\n",
       "      <td>...</td>\n",
       "      <td>...</td>\n",
       "      <td>...</td>\n",
       "      <td>...</td>\n",
       "      <td>...</td>\n",
       "      <td>...</td>\n",
       "    </tr>\n",
       "    <tr>\n",
       "      <th>15221</th>\n",
       "      <td>176554</td>\n",
       "      <td>Lightning Charging Cable</td>\n",
       "      <td>1</td>\n",
       "      <td>14.95</td>\n",
       "      <td>03/24/19 11:14</td>\n",
       "      <td>672 12th St, San Francisco, CA 94016</td>\n",
       "    </tr>\n",
       "    <tr>\n",
       "      <th>15222</th>\n",
       "      <td>176555</td>\n",
       "      <td>27in FHD Monitor</td>\n",
       "      <td>1</td>\n",
       "      <td>149.99</td>\n",
       "      <td>03/22/19 20:27</td>\n",
       "      <td>42 4th St, San Francisco, CA 94016</td>\n",
       "    </tr>\n",
       "    <tr>\n",
       "      <th>15223</th>\n",
       "      <td>176556</td>\n",
       "      <td>AAA Batteries (4-pack)</td>\n",
       "      <td>3</td>\n",
       "      <td>2.99</td>\n",
       "      <td>03/14/19 10:29</td>\n",
       "      <td>871 7th St, Los Angeles, CA 90001</td>\n",
       "    </tr>\n",
       "    <tr>\n",
       "      <th>15224</th>\n",
       "      <td>176557</td>\n",
       "      <td>iPhone</td>\n",
       "      <td>1</td>\n",
       "      <td>700</td>\n",
       "      <td>03/30/19 12:32</td>\n",
       "      <td>83 Washington St, San Francisco, CA 94016</td>\n",
       "    </tr>\n",
       "    <tr>\n",
       "      <th>15225</th>\n",
       "      <td>176557</td>\n",
       "      <td>Lightning Charging Cable</td>\n",
       "      <td>1</td>\n",
       "      <td>14.95</td>\n",
       "      <td>03/30/19 12:32</td>\n",
       "      <td>83 Washington St, San Francisco, CA 94016</td>\n",
       "    </tr>\n",
       "  </tbody>\n",
       "</table>\n",
       "<p>15226 rows × 6 columns</p>\n",
       "</div>"
      ],
      "text/plain": [
       "      Order ID                     Product Quantity Ordered Price Each  \\\n",
       "0       162009                      iPhone                1        700   \n",
       "1       162009    Lightning Charging Cable                1      14.95   \n",
       "2       162009            Wired Headphones                2      11.99   \n",
       "3       162010  Bose SoundSport Headphones                1      99.99   \n",
       "4       162011      34in Ultrawide Monitor                1     379.99   \n",
       "...        ...                         ...              ...        ...   \n",
       "15221   176554    Lightning Charging Cable                1      14.95   \n",
       "15222   176555            27in FHD Monitor                1     149.99   \n",
       "15223   176556      AAA Batteries (4-pack)                3       2.99   \n",
       "15224   176557                      iPhone                1        700   \n",
       "15225   176557    Lightning Charging Cable                1      14.95   \n",
       "\n",
       "           Order Date                           Purchase Address  \n",
       "0      03/28/19 20:59            942 Church St, Austin, TX 73301  \n",
       "1      03/28/19 20:59            942 Church St, Austin, TX 73301  \n",
       "2      03/28/19 20:59            942 Church St, Austin, TX 73301  \n",
       "3      03/17/19 05:39       261 10th St, San Francisco, CA 94016  \n",
       "4      03/10/19 00:01       764 13th St, San Francisco, CA 94016  \n",
       "...               ...                                        ...  \n",
       "15221  03/24/19 11:14       672 12th St, San Francisco, CA 94016  \n",
       "15222  03/22/19 20:27         42 4th St, San Francisco, CA 94016  \n",
       "15223  03/14/19 10:29          871 7th St, Los Angeles, CA 90001  \n",
       "15224  03/30/19 12:32  83 Washington St, San Francisco, CA 94016  \n",
       "15225  03/30/19 12:32  83 Washington St, San Francisco, CA 94016  \n",
       "\n",
       "[15226 rows x 6 columns]"
      ]
     },
     "execution_count": 61,
     "metadata": {},
     "output_type": "execute_result"
    }
   ],
   "source": [
    "data2"
   ]
  },
  {
   "cell_type": "code",
   "execution_count": 62,
   "id": "ba2c40d4",
   "metadata": {},
   "outputs": [],
   "source": [
    "data = []\n",
    "for file in list_of_files:\n",
    "    data.append(pd.read_csv(file))"
   ]
  },
  {
   "cell_type": "code",
   "execution_count": null,
   "id": "8785a6e5",
   "metadata": {},
   "outputs": [],
   "source": []
  },
  {
   "cell_type": "code",
   "execution_count": 63,
   "id": "35dbc594",
   "metadata": {},
   "outputs": [],
   "source": [
    "##PEAK PERIOD"
   ]
  },
  {
   "cell_type": "code",
   "execution_count": 64,
   "id": "83e0fe1d",
   "metadata": {},
   "outputs": [],
   "source": [
    "data = pd.concat(data, ignore_index=True)"
   ]
  },
  {
   "cell_type": "code",
   "execution_count": 65,
   "id": "0cb29d25",
   "metadata": {},
   "outputs": [
    {
     "data": {
      "text/plain": [
       "'Los Angeles'"
      ]
     },
     "execution_count": 65,
     "metadata": {},
     "output_type": "execute_result"
    }
   ],
   "source": [
    "data['Purchase Address'][186000].split(',')[1].strip()"
   ]
  },
  {
   "cell_type": "code",
   "execution_count": 66,
   "id": "ad8d0554",
   "metadata": {},
   "outputs": [],
   "source": [
    "def convert_state(data):\n",
    "    if isinstance(data, float):\n",
    "        return 'n/a'\n",
    "    else:\n",
    "        return data.split(',')[1].strip(' ')"
   ]
  },
  {
   "cell_type": "code",
   "execution_count": 67,
   "id": "dff53537",
   "metadata": {},
   "outputs": [],
   "source": [
    "# d = 0\n",
    "# for i in list(data['Purchase Address']):\n",
    "#     if isinstance(i, float):\n",
    "#         print('stuff', i)\n",
    "#         d += 1"
   ]
  },
  {
   "cell_type": "code",
   "execution_count": 68,
   "id": "70809a0c",
   "metadata": {},
   "outputs": [],
   "source": [
    "data['State'] = data['Purchase Address'].apply(parse_address)"
   ]
  },
  {
   "cell_type": "code",
   "execution_count": 69,
   "id": "9a0c1c77",
   "metadata": {},
   "outputs": [
    {
     "data": {
      "text/html": [
       "<div>\n",
       "<style scoped>\n",
       "    .dataframe tbody tr th:only-of-type {\n",
       "        vertical-align: middle;\n",
       "    }\n",
       "\n",
       "    .dataframe tbody tr th {\n",
       "        vertical-align: top;\n",
       "    }\n",
       "\n",
       "    .dataframe thead th {\n",
       "        text-align: right;\n",
       "    }\n",
       "</style>\n",
       "<table border=\"1\" class=\"dataframe\">\n",
       "  <thead>\n",
       "    <tr style=\"text-align: right;\">\n",
       "      <th></th>\n",
       "      <th>State</th>\n",
       "    </tr>\n",
       "  </thead>\n",
       "  <tbody>\n",
       "    <tr>\n",
       "      <th>0</th>\n",
       "      <td>MA</td>\n",
       "    </tr>\n",
       "    <tr>\n",
       "      <th>1</th>\n",
       "      <td>OR</td>\n",
       "    </tr>\n",
       "    <tr>\n",
       "      <th>2</th>\n",
       "      <td>CA</td>\n",
       "    </tr>\n",
       "    <tr>\n",
       "      <th>3</th>\n",
       "      <td>CA</td>\n",
       "    </tr>\n",
       "    <tr>\n",
       "      <th>4</th>\n",
       "      <td>TX</td>\n",
       "    </tr>\n",
       "    <tr>\n",
       "      <th>5</th>\n",
       "      <td>CA</td>\n",
       "    </tr>\n",
       "    <tr>\n",
       "      <th>6</th>\n",
       "      <td>CA</td>\n",
       "    </tr>\n",
       "    <tr>\n",
       "      <th>7</th>\n",
       "      <td>CA</td>\n",
       "    </tr>\n",
       "    <tr>\n",
       "      <th>8</th>\n",
       "      <td>CA</td>\n",
       "    </tr>\n",
       "    <tr>\n",
       "      <th>9</th>\n",
       "      <td>CA</td>\n",
       "    </tr>\n",
       "  </tbody>\n",
       "</table>\n",
       "</div>"
      ],
      "text/plain": [
       "  State\n",
       "0    MA\n",
       "1    OR\n",
       "2    CA\n",
       "3    CA\n",
       "4    TX\n",
       "5    CA\n",
       "6    CA\n",
       "7    CA\n",
       "8    CA\n",
       "9    CA"
      ]
     },
     "execution_count": 69,
     "metadata": {},
     "output_type": "execute_result"
    }
   ],
   "source": [
    "pd.DataFrame(data['State']).head(10)"
   ]
  },
  {
   "cell_type": "code",
   "execution_count": 70,
   "id": "6ac80ac4",
   "metadata": {},
   "outputs": [],
   "source": [
    "data['Time'] = data['Order Date'].apply(parse_date)"
   ]
  },
  {
   "cell_type": "code",
   "execution_count": 71,
   "id": "19dc9ae9",
   "metadata": {},
   "outputs": [
    {
     "data": {
      "text/plain": [
       "0        2019-01-22 21:25:00\n",
       "1        2019-01-28 14:15:00\n",
       "2        2019-01-17 13:33:00\n",
       "3        2019-01-05 20:33:00\n",
       "4        2019-01-25 11:59:00\n",
       "                 ...        \n",
       "186845   2019-12-11 20:58:00\n",
       "186846   2019-12-01 12:01:00\n",
       "186847   2019-12-09 06:43:00\n",
       "186848   2019-12-03 10:39:00\n",
       "186849   2019-12-21 21:45:00\n",
       "Name: Time, Length: 186850, dtype: datetime64[ns]"
      ]
     },
     "execution_count": 71,
     "metadata": {},
     "output_type": "execute_result"
    }
   ],
   "source": [
    "data['Time']"
   ]
  },
  {
   "cell_type": "code",
   "execution_count": 72,
   "id": "ea49f251",
   "metadata": {},
   "outputs": [],
   "source": [
    "d = map(convert_state, list(data['Purchase Address']))"
   ]
  },
  {
   "cell_type": "code",
   "execution_count": 73,
   "id": "78b22b73",
   "metadata": {},
   "outputs": [],
   "source": [
    "def parse_address(value, *, default=None):\n",
    "    try:\n",
    "        clean = value.split(',')[2][1:3]\n",
    "        if not clean:\n",
    "            return default\n",
    "        else:\n",
    "            return clean\n",
    "    except Exception:\n",
    "        return default"
   ]
  },
  {
   "cell_type": "code",
   "execution_count": 74,
   "id": "7e823d2e",
   "metadata": {},
   "outputs": [],
   "source": [
    "def parse_date(value, *, fmt='%m/%d/%y %H:%M', default=None):\n",
    "    try:\n",
    "        return datetime.strptime(value, fmt)\n",
    "    except Exception:\n",
    "        return default"
   ]
  },
  {
   "cell_type": "code",
   "execution_count": 75,
   "id": "1d6f0876",
   "metadata": {},
   "outputs": [
    {
     "data": {
      "text/plain": [
       "True"
      ]
     },
     "execution_count": 75,
     "metadata": {},
     "output_type": "execute_result"
    }
   ],
   "source": [
    "isinstance(2.3, float)"
   ]
  },
  {
   "cell_type": "code",
   "execution_count": 76,
   "id": "e33c4b2a",
   "metadata": {},
   "outputs": [],
   "source": [
    "def parse_int(value, *, default=None):\n",
    "    try:\n",
    "        return int(value)\n",
    "    except Exception:\n",
    "        return default"
   ]
  },
  {
   "cell_type": "code",
   "execution_count": 77,
   "id": "f6401d2c",
   "metadata": {},
   "outputs": [],
   "source": [
    "def parse_float(value, *, default=None):\n",
    "    try:\n",
    "        return float(value)\n",
    "    except Exception:\n",
    "        return default"
   ]
  },
  {
   "cell_type": "code",
   "execution_count": 78,
   "id": "ca842ea5",
   "metadata": {},
   "outputs": [],
   "source": [
    "data['Quantity Ordered_int'] = data['Quantity Ordered'].apply(parse_int)"
   ]
  },
  {
   "cell_type": "code",
   "execution_count": 79,
   "id": "f419e2e9",
   "metadata": {},
   "outputs": [],
   "source": [
    "data['Price Each_int'] = data['Price Each'].apply(parse_float)"
   ]
  },
  {
   "cell_type": "code",
   "execution_count": 80,
   "id": "c81cb591",
   "metadata": {},
   "outputs": [],
   "source": [
    "data['Total Value'] = data['Quantity Ordered_int'] * data['Price Each_int']"
   ]
  },
  {
   "cell_type": "code",
   "execution_count": 81,
   "id": "c44bb272",
   "metadata": {},
   "outputs": [
    {
     "data": {
      "text/plain": [
       "0         700.00\n",
       "1          14.95\n",
       "2          23.98\n",
       "3         149.99\n",
       "4          11.99\n",
       "           ...  \n",
       "186845     14.95\n",
       "186846      7.68\n",
       "186847    400.00\n",
       "186848     11.99\n",
       "186849     99.99\n",
       "Name: Total Value, Length: 186850, dtype: float64"
      ]
     },
     "execution_count": 81,
     "metadata": {},
     "output_type": "execute_result"
    }
   ],
   "source": [
    "data['Total Value']"
   ]
  },
  {
   "cell_type": "code",
   "execution_count": 82,
   "id": "27a163f9",
   "metadata": {
    "scrolled": true
   },
   "outputs": [
    {
     "data": {
      "text/html": [
       "<div>\n",
       "<style scoped>\n",
       "    .dataframe tbody tr th:only-of-type {\n",
       "        vertical-align: middle;\n",
       "    }\n",
       "\n",
       "    .dataframe tbody tr th {\n",
       "        vertical-align: top;\n",
       "    }\n",
       "\n",
       "    .dataframe thead th {\n",
       "        text-align: right;\n",
       "    }\n",
       "</style>\n",
       "<table border=\"1\" class=\"dataframe\">\n",
       "  <thead>\n",
       "    <tr style=\"text-align: right;\">\n",
       "      <th></th>\n",
       "      <th>Order ID</th>\n",
       "      <th>Product</th>\n",
       "      <th>Quantity Ordered</th>\n",
       "      <th>Price Each</th>\n",
       "      <th>Order Date</th>\n",
       "      <th>Purchase Address</th>\n",
       "      <th>State</th>\n",
       "      <th>Time</th>\n",
       "      <th>Quantity Ordered_int</th>\n",
       "      <th>Price Each_int</th>\n",
       "      <th>Total Value</th>\n",
       "    </tr>\n",
       "  </thead>\n",
       "  <tbody>\n",
       "    <tr>\n",
       "      <th>0</th>\n",
       "      <td>141234</td>\n",
       "      <td>iPhone</td>\n",
       "      <td>1</td>\n",
       "      <td>700</td>\n",
       "      <td>01/22/19 21:25</td>\n",
       "      <td>944 Walnut St, Boston, MA 02215</td>\n",
       "      <td>MA</td>\n",
       "      <td>2019-01-22 21:25:00</td>\n",
       "      <td>1.0</td>\n",
       "      <td>700.00</td>\n",
       "      <td>700.00</td>\n",
       "    </tr>\n",
       "    <tr>\n",
       "      <th>1</th>\n",
       "      <td>141235</td>\n",
       "      <td>Lightning Charging Cable</td>\n",
       "      <td>1</td>\n",
       "      <td>14.95</td>\n",
       "      <td>01/28/19 14:15</td>\n",
       "      <td>185 Maple St, Portland, OR 97035</td>\n",
       "      <td>OR</td>\n",
       "      <td>2019-01-28 14:15:00</td>\n",
       "      <td>1.0</td>\n",
       "      <td>14.95</td>\n",
       "      <td>14.95</td>\n",
       "    </tr>\n",
       "    <tr>\n",
       "      <th>2</th>\n",
       "      <td>141236</td>\n",
       "      <td>Wired Headphones</td>\n",
       "      <td>2</td>\n",
       "      <td>11.99</td>\n",
       "      <td>01/17/19 13:33</td>\n",
       "      <td>538 Adams St, San Francisco, CA 94016</td>\n",
       "      <td>CA</td>\n",
       "      <td>2019-01-17 13:33:00</td>\n",
       "      <td>2.0</td>\n",
       "      <td>11.99</td>\n",
       "      <td>23.98</td>\n",
       "    </tr>\n",
       "    <tr>\n",
       "      <th>3</th>\n",
       "      <td>141237</td>\n",
       "      <td>27in FHD Monitor</td>\n",
       "      <td>1</td>\n",
       "      <td>149.99</td>\n",
       "      <td>01/05/19 20:33</td>\n",
       "      <td>738 10th St, Los Angeles, CA 90001</td>\n",
       "      <td>CA</td>\n",
       "      <td>2019-01-05 20:33:00</td>\n",
       "      <td>1.0</td>\n",
       "      <td>149.99</td>\n",
       "      <td>149.99</td>\n",
       "    </tr>\n",
       "    <tr>\n",
       "      <th>4</th>\n",
       "      <td>141238</td>\n",
       "      <td>Wired Headphones</td>\n",
       "      <td>1</td>\n",
       "      <td>11.99</td>\n",
       "      <td>01/25/19 11:59</td>\n",
       "      <td>387 10th St, Austin, TX 73301</td>\n",
       "      <td>TX</td>\n",
       "      <td>2019-01-25 11:59:00</td>\n",
       "      <td>1.0</td>\n",
       "      <td>11.99</td>\n",
       "      <td>11.99</td>\n",
       "    </tr>\n",
       "    <tr>\n",
       "      <th>...</th>\n",
       "      <td>...</td>\n",
       "      <td>...</td>\n",
       "      <td>...</td>\n",
       "      <td>...</td>\n",
       "      <td>...</td>\n",
       "      <td>...</td>\n",
       "      <td>...</td>\n",
       "      <td>...</td>\n",
       "      <td>...</td>\n",
       "      <td>...</td>\n",
       "      <td>...</td>\n",
       "    </tr>\n",
       "    <tr>\n",
       "      <th>186845</th>\n",
       "      <td>319666</td>\n",
       "      <td>Lightning Charging Cable</td>\n",
       "      <td>1</td>\n",
       "      <td>14.95</td>\n",
       "      <td>12/11/19 20:58</td>\n",
       "      <td>14 Madison St, San Francisco, CA 94016</td>\n",
       "      <td>CA</td>\n",
       "      <td>2019-12-11 20:58:00</td>\n",
       "      <td>1.0</td>\n",
       "      <td>14.95</td>\n",
       "      <td>14.95</td>\n",
       "    </tr>\n",
       "    <tr>\n",
       "      <th>186846</th>\n",
       "      <td>319667</td>\n",
       "      <td>AA Batteries (4-pack)</td>\n",
       "      <td>2</td>\n",
       "      <td>3.84</td>\n",
       "      <td>12/01/19 12:01</td>\n",
       "      <td>549 Willow St, Los Angeles, CA 90001</td>\n",
       "      <td>CA</td>\n",
       "      <td>2019-12-01 12:01:00</td>\n",
       "      <td>2.0</td>\n",
       "      <td>3.84</td>\n",
       "      <td>7.68</td>\n",
       "    </tr>\n",
       "    <tr>\n",
       "      <th>186847</th>\n",
       "      <td>319668</td>\n",
       "      <td>Vareebadd Phone</td>\n",
       "      <td>1</td>\n",
       "      <td>400</td>\n",
       "      <td>12/09/19 06:43</td>\n",
       "      <td>273 Wilson St, Seattle, WA 98101</td>\n",
       "      <td>WA</td>\n",
       "      <td>2019-12-09 06:43:00</td>\n",
       "      <td>1.0</td>\n",
       "      <td>400.00</td>\n",
       "      <td>400.00</td>\n",
       "    </tr>\n",
       "    <tr>\n",
       "      <th>186848</th>\n",
       "      <td>319669</td>\n",
       "      <td>Wired Headphones</td>\n",
       "      <td>1</td>\n",
       "      <td>11.99</td>\n",
       "      <td>12/03/19 10:39</td>\n",
       "      <td>778 River St, Dallas, TX 75001</td>\n",
       "      <td>TX</td>\n",
       "      <td>2019-12-03 10:39:00</td>\n",
       "      <td>1.0</td>\n",
       "      <td>11.99</td>\n",
       "      <td>11.99</td>\n",
       "    </tr>\n",
       "    <tr>\n",
       "      <th>186849</th>\n",
       "      <td>319670</td>\n",
       "      <td>Bose SoundSport Headphones</td>\n",
       "      <td>1</td>\n",
       "      <td>99.99</td>\n",
       "      <td>12/21/19 21:45</td>\n",
       "      <td>747 Chestnut St, Los Angeles, CA 90001</td>\n",
       "      <td>CA</td>\n",
       "      <td>2019-12-21 21:45:00</td>\n",
       "      <td>1.0</td>\n",
       "      <td>99.99</td>\n",
       "      <td>99.99</td>\n",
       "    </tr>\n",
       "  </tbody>\n",
       "</table>\n",
       "<p>186850 rows × 11 columns</p>\n",
       "</div>"
      ],
      "text/plain": [
       "       Order ID                     Product Quantity Ordered Price Each  \\\n",
       "0        141234                      iPhone                1        700   \n",
       "1        141235    Lightning Charging Cable                1      14.95   \n",
       "2        141236            Wired Headphones                2      11.99   \n",
       "3        141237            27in FHD Monitor                1     149.99   \n",
       "4        141238            Wired Headphones                1      11.99   \n",
       "...         ...                         ...              ...        ...   \n",
       "186845   319666    Lightning Charging Cable                1      14.95   \n",
       "186846   319667       AA Batteries (4-pack)                2       3.84   \n",
       "186847   319668             Vareebadd Phone                1        400   \n",
       "186848   319669            Wired Headphones                1      11.99   \n",
       "186849   319670  Bose SoundSport Headphones                1      99.99   \n",
       "\n",
       "            Order Date                        Purchase Address State  \\\n",
       "0       01/22/19 21:25         944 Walnut St, Boston, MA 02215    MA   \n",
       "1       01/28/19 14:15        185 Maple St, Portland, OR 97035    OR   \n",
       "2       01/17/19 13:33   538 Adams St, San Francisco, CA 94016    CA   \n",
       "3       01/05/19 20:33      738 10th St, Los Angeles, CA 90001    CA   \n",
       "4       01/25/19 11:59           387 10th St, Austin, TX 73301    TX   \n",
       "...                ...                                     ...   ...   \n",
       "186845  12/11/19 20:58  14 Madison St, San Francisco, CA 94016    CA   \n",
       "186846  12/01/19 12:01    549 Willow St, Los Angeles, CA 90001    CA   \n",
       "186847  12/09/19 06:43        273 Wilson St, Seattle, WA 98101    WA   \n",
       "186848  12/03/19 10:39          778 River St, Dallas, TX 75001    TX   \n",
       "186849  12/21/19 21:45  747 Chestnut St, Los Angeles, CA 90001    CA   \n",
       "\n",
       "                      Time  Quantity Ordered_int  Price Each_int  Total Value  \n",
       "0      2019-01-22 21:25:00                   1.0          700.00       700.00  \n",
       "1      2019-01-28 14:15:00                   1.0           14.95        14.95  \n",
       "2      2019-01-17 13:33:00                   2.0           11.99        23.98  \n",
       "3      2019-01-05 20:33:00                   1.0          149.99       149.99  \n",
       "4      2019-01-25 11:59:00                   1.0           11.99        11.99  \n",
       "...                    ...                   ...             ...          ...  \n",
       "186845 2019-12-11 20:58:00                   1.0           14.95        14.95  \n",
       "186846 2019-12-01 12:01:00                   2.0            3.84         7.68  \n",
       "186847 2019-12-09 06:43:00                   1.0          400.00       400.00  \n",
       "186848 2019-12-03 10:39:00                   1.0           11.99        11.99  \n",
       "186849 2019-12-21 21:45:00                   1.0           99.99        99.99  \n",
       "\n",
       "[186850 rows x 11 columns]"
      ]
     },
     "execution_count": 82,
     "metadata": {},
     "output_type": "execute_result"
    }
   ],
   "source": [
    "data"
   ]
  },
  {
   "cell_type": "code",
   "execution_count": null,
   "id": "ec3c4c92",
   "metadata": {},
   "outputs": [],
   "source": []
  },
  {
   "cell_type": "code",
   "execution_count": 83,
   "id": "3ca653a1",
   "metadata": {},
   "outputs": [],
   "source": [
    "##STATE WITH MOST IMPACT"
   ]
  },
  {
   "cell_type": "code",
   "execution_count": 84,
   "id": "00d96fb4",
   "metadata": {},
   "outputs": [
    {
     "data": {
      "text/html": [
       "<div>\n",
       "<style scoped>\n",
       "    .dataframe tbody tr th:only-of-type {\n",
       "        vertical-align: middle;\n",
       "    }\n",
       "\n",
       "    .dataframe tbody tr th {\n",
       "        vertical-align: top;\n",
       "    }\n",
       "\n",
       "    .dataframe thead th {\n",
       "        text-align: right;\n",
       "    }\n",
       "</style>\n",
       "<table border=\"1\" class=\"dataframe\">\n",
       "  <thead>\n",
       "    <tr style=\"text-align: right;\">\n",
       "      <th></th>\n",
       "      <th>State</th>\n",
       "      <th>Total Value</th>\n",
       "    </tr>\n",
       "  </thead>\n",
       "  <tbody>\n",
       "    <tr>\n",
       "      <th>0</th>\n",
       "      <td>CA</td>\n",
       "      <td>1.371477e+07</td>\n",
       "    </tr>\n",
       "    <tr>\n",
       "      <th>1</th>\n",
       "      <td>GA</td>\n",
       "      <td>2.795499e+06</td>\n",
       "    </tr>\n",
       "    <tr>\n",
       "      <th>2</th>\n",
       "      <td>MA</td>\n",
       "      <td>3.661642e+06</td>\n",
       "    </tr>\n",
       "    <tr>\n",
       "      <th>3</th>\n",
       "      <td>ME</td>\n",
       "      <td>4.497583e+05</td>\n",
       "    </tr>\n",
       "    <tr>\n",
       "      <th>4</th>\n",
       "      <td>NY</td>\n",
       "      <td>4.664317e+06</td>\n",
       "    </tr>\n",
       "    <tr>\n",
       "      <th>5</th>\n",
       "      <td>OR</td>\n",
       "      <td>1.870732e+06</td>\n",
       "    </tr>\n",
       "    <tr>\n",
       "      <th>6</th>\n",
       "      <td>TX</td>\n",
       "      <td>4.587557e+06</td>\n",
       "    </tr>\n",
       "    <tr>\n",
       "      <th>7</th>\n",
       "      <td>WA</td>\n",
       "      <td>2.747755e+06</td>\n",
       "    </tr>\n",
       "  </tbody>\n",
       "</table>\n",
       "</div>"
      ],
      "text/plain": [
       "  State   Total Value\n",
       "0    CA  1.371477e+07\n",
       "1    GA  2.795499e+06\n",
       "2    MA  3.661642e+06\n",
       "3    ME  4.497583e+05\n",
       "4    NY  4.664317e+06\n",
       "5    OR  1.870732e+06\n",
       "6    TX  4.587557e+06\n",
       "7    WA  2.747755e+06"
      ]
     },
     "execution_count": 84,
     "metadata": {},
     "output_type": "execute_result"
    }
   ],
   "source": [
    "state_impact = pd.DataFrame(data.groupby(\"State\")[\"Total Value\"].sum()).reset_index()\n",
    "state_impact"
   ]
  },
  {
   "cell_type": "code",
   "execution_count": 85,
   "id": "fc304158",
   "metadata": {},
   "outputs": [],
   "source": [
    "state_impact.sort_values(by = \"Total Value\", inplace = True, ascending=False)"
   ]
  },
  {
   "cell_type": "code",
   "execution_count": 86,
   "id": "5eb2e4bd",
   "metadata": {},
   "outputs": [],
   "source": [
    "# state_impact['Total Value'].plot(x=state_impact['State'], y=state_impact['Total Value'])"
   ]
  },
  {
   "cell_type": "code",
   "execution_count": 87,
   "id": "22ad9067",
   "metadata": {},
   "outputs": [],
   "source": [
    "state_impact['Total Value'] = state_impact['Total Value'].apply(lambda x: int(x))"
   ]
  },
  {
   "cell_type": "code",
   "execution_count": 88,
   "id": "9c665c84",
   "metadata": {},
   "outputs": [
    {
     "data": {
      "text/html": [
       "<div>\n",
       "<style scoped>\n",
       "    .dataframe tbody tr th:only-of-type {\n",
       "        vertical-align: middle;\n",
       "    }\n",
       "\n",
       "    .dataframe tbody tr th {\n",
       "        vertical-align: top;\n",
       "    }\n",
       "\n",
       "    .dataframe thead th {\n",
       "        text-align: right;\n",
       "    }\n",
       "</style>\n",
       "<table border=\"1\" class=\"dataframe\">\n",
       "  <thead>\n",
       "    <tr style=\"text-align: right;\">\n",
       "      <th></th>\n",
       "      <th>State</th>\n",
       "      <th>Total Value</th>\n",
       "    </tr>\n",
       "  </thead>\n",
       "  <tbody>\n",
       "    <tr>\n",
       "      <th>0</th>\n",
       "      <td>CA</td>\n",
       "      <td>13714774</td>\n",
       "    </tr>\n",
       "    <tr>\n",
       "      <th>4</th>\n",
       "      <td>NY</td>\n",
       "      <td>4664317</td>\n",
       "    </tr>\n",
       "    <tr>\n",
       "      <th>6</th>\n",
       "      <td>TX</td>\n",
       "      <td>4587557</td>\n",
       "    </tr>\n",
       "    <tr>\n",
       "      <th>2</th>\n",
       "      <td>MA</td>\n",
       "      <td>3661642</td>\n",
       "    </tr>\n",
       "    <tr>\n",
       "      <th>1</th>\n",
       "      <td>GA</td>\n",
       "      <td>2795498</td>\n",
       "    </tr>\n",
       "    <tr>\n",
       "      <th>7</th>\n",
       "      <td>WA</td>\n",
       "      <td>2747755</td>\n",
       "    </tr>\n",
       "    <tr>\n",
       "      <th>5</th>\n",
       "      <td>OR</td>\n",
       "      <td>1870732</td>\n",
       "    </tr>\n",
       "    <tr>\n",
       "      <th>3</th>\n",
       "      <td>ME</td>\n",
       "      <td>449758</td>\n",
       "    </tr>\n",
       "  </tbody>\n",
       "</table>\n",
       "</div>"
      ],
      "text/plain": [
       "  State  Total Value\n",
       "0    CA     13714774\n",
       "4    NY      4664317\n",
       "6    TX      4587557\n",
       "2    MA      3661642\n",
       "1    GA      2795498\n",
       "7    WA      2747755\n",
       "5    OR      1870732\n",
       "3    ME       449758"
      ]
     },
     "execution_count": 88,
     "metadata": {},
     "output_type": "execute_result"
    }
   ],
   "source": [
    "state_impact"
   ]
  },
  {
   "cell_type": "code",
   "execution_count": 89,
   "id": "ec29284e",
   "metadata": {},
   "outputs": [],
   "source": [
    "##LINE PLOT"
   ]
  },
  {
   "cell_type": "code",
   "execution_count": 90,
   "id": "51f7a2f5",
   "metadata": {},
   "outputs": [
    {
     "data": {
      "image/png": "[encoded data removed]",
      "text/plain": [
       "<Figure size 432x288 with 1 Axes>"
      ]
     },
     "metadata": {},
     "output_type": "display_data"
    }
   ],
   "source": [
    "plt.plot(state_impact['State'], state_impact['Total Value'],linewidth = 3, color = \"blue\", alpha = 0.7)\n",
    "\n",
    "plt.title(\"State Impact by Time\")\n",
    "plt.xlabel(\"State\")\n",
    "plt.ylabel(\"Total Value\")\n",
    "\n",
    "plt.show()\n",
    "# plt.plot"
   ]
  },
  {
   "cell_type": "code",
   "execution_count": 91,
   "id": "1622bdb5",
   "metadata": {},
   "outputs": [],
   "source": [
    "##BAR CHART"
   ]
  },
  {
   "cell_type": "code",
   "execution_count": 92,
   "id": "55321bb0",
   "metadata": {},
   "outputs": [],
   "source": [
    "all_colors = [\"blue\", \"pink\", \"orange\", \"green\", \"cyan\", \"purple\", \"brown\", \"yellow\", \"brown\", \"indigo\", \"grey\"]"
   ]
  },
  {
   "cell_type": "code",
   "execution_count": 93,
   "id": "3b9fd181",
   "metadata": {},
   "outputs": [
    {
     "data": {
      "image/png": "[encoded data removed]",
      "text/plain": [
       "<Figure size 432x288 with 1 Axes>"
      ]
     },
     "metadata": {},
     "output_type": "display_data"
    }
   ],
   "source": [
    "plt.bar(state_impact['State'], state_impact['Total Value'], width = 0.7, color = all_colors[:  11])\n",
    "\n",
    "\n",
    "plt.title(\"State Impact by Time\")\n",
    "plt.xlabel(\"State\")\n",
    "plt.ylabel(\"Total Value\")\n",
    "\n",
    "plt.show()"
   ]
  },
  {
   "cell_type": "code",
   "execution_count": null,
   "id": "26d5abbb",
   "metadata": {},
   "outputs": [],
   "source": []
  },
  {
   "cell_type": "code",
   "execution_count": 94,
   "id": "0b051ee0",
   "metadata": {},
   "outputs": [],
   "source": [
    "##PIE CHART"
   ]
  },
  {
   "cell_type": "code",
   "execution_count": 95,
   "id": "ac4a4869",
   "metadata": {},
   "outputs": [
    {
     "data": {
      "image/png": "[encoded data removed]",
      "text/plain": [
       "<Figure size 432x288 with 1 Axes>"
      ]
     },
     "metadata": {},
     "output_type": "display_data"
    }
   ],
   "source": [
    "plt.pie(state_impact[\"Total Value\"], labels = state_impact[\"State\"], radius = 2.0, autopct = \"%0.2f%%\", explode = [0.1,0,0,0,0,0,0,0])\n",
    "\n",
    "plt.show()"
   ]
  },
  {
   "cell_type": "code",
   "execution_count": null,
   "id": "02644d92",
   "metadata": {},
   "outputs": [],
   "source": []
  },
  {
   "cell_type": "code",
   "execution_count": null,
   "id": "23d08d0b",
   "metadata": {},
   "outputs": [],
   "source": []
  },
  {
   "cell_type": "code",
   "execution_count": 96,
   "id": "e1b52c89",
   "metadata": {},
   "outputs": [],
   "source": [
    "##CHI SQUARE"
   ]
  },
  {
   "cell_type": "code",
   "execution_count": 97,
   "id": "727c4c6e",
   "metadata": {},
   "outputs": [],
   "source": [
    "from scipy.stats import chi2_contingency as chi"
   ]
  },
  {
   "cell_type": "code",
   "execution_count": 98,
   "id": "cc060f89",
   "metadata": {},
   "outputs": [
    {
     "data": {
      "text/plain": [
       "(56.0,\n",
       " 0.2288519727170065,\n",
       " 49,\n",
       " array([[0.125, 0.125, 0.125, 0.125, 0.125, 0.125, 0.125, 0.125],\n",
       "        [0.125, 0.125, 0.125, 0.125, 0.125, 0.125, 0.125, 0.125],\n",
       "        [0.125, 0.125, 0.125, 0.125, 0.125, 0.125, 0.125, 0.125],\n",
       "        [0.125, 0.125, 0.125, 0.125, 0.125, 0.125, 0.125, 0.125],\n",
       "        [0.125, 0.125, 0.125, 0.125, 0.125, 0.125, 0.125, 0.125],\n",
       "        [0.125, 0.125, 0.125, 0.125, 0.125, 0.125, 0.125, 0.125],\n",
       "        [0.125, 0.125, 0.125, 0.125, 0.125, 0.125, 0.125, 0.125],\n",
       "        [0.125, 0.125, 0.125, 0.125, 0.125, 0.125, 0.125, 0.125]]))"
      ]
     },
     "execution_count": 98,
     "metadata": {},
     "output_type": "execute_result"
    }
   ],
   "source": [
    "chi(pd.crosstab(state_impact[\"State\"], state_impact[\"Total Value\"]))"
   ]
  },
  {
   "cell_type": "code",
   "execution_count": null,
   "id": "ff5b4906",
   "metadata": {},
   "outputs": [],
   "source": []
  },
  {
   "cell_type": "code",
   "execution_count": null,
   "id": "479eb0a2",
   "metadata": {},
   "outputs": [],
   "source": []
  },
  {
   "cell_type": "code",
   "execution_count": null,
   "id": "8526d823",
   "metadata": {},
   "outputs": [],
   "source": []
  },
  {
   "cell_type": "code",
   "execution_count": null,
   "id": "0de7fd96",
   "metadata": {},
   "outputs": [],
   "source": []
  }
 ],
 "metadata": {
  "kernelspec": {
   "display_name": "Python 3",
   "language": "python",
   "name": "python3"
  },
  "language_info": {
   "codemirror_mode": {
    "name": "ipython",
    "version": 3
   },
   "file_extension": ".py",
   "mimetype": "text/x-python",
   "name": "python",
   "nbconvert_exporter": "python",
   "pygments_lexer": "ipython3",
   "version": "3.8.8"
  }
 },
 "nbformat": 4,
 "nbformat_minor": 5
}
